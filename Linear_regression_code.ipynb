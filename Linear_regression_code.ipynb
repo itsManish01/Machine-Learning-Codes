{
 "cells": [
  {
   "cell_type": "code",
   "execution_count": 34,
   "id": "71fd30fc",
   "metadata": {},
   "outputs": [],
   "source": [
    "import numpy as np\n",
    "data = np.loadtxt(\"data.csv\",delimiter=\",\")"
   ]
  },
  {
   "cell_type": "code",
   "execution_count": 40,
   "id": "42090462",
   "metadata": {},
   "outputs": [],
   "source": [
    "x = data[:,0]\n",
    "y = data[:,1]"
   ]
  },
  {
   "cell_type": "code",
   "execution_count": 41,
   "id": "4e1ddb45",
   "metadata": {},
   "outputs": [],
   "source": [
    "from sklearn import model_selection\n",
    "X_train, X_test, Y_train,Y_test = model_selection.train_test_split(x,y,test_size = 0.3)"
   ]
  },
  {
   "cell_type": "code",
   "execution_count": 42,
   "id": "6bf10350",
   "metadata": {},
   "outputs": [],
   "source": [
    "def fit(x,y):\n",
    "    numerator = (x*y).mean() - x.mean()*y.mean()\n",
    "    denominator = (x*x).mean() - x.mean()**2\n",
    "    m = numerator / denominator\n",
    "    c = y.mean() - m* x.mean()\n",
    "    return m,c"
   ]
  },
  {
   "cell_type": "code",
   "execution_count": 43,
   "id": "f98324ad",
   "metadata": {},
   "outputs": [],
   "source": [
    "def predict(x,m,c):\n",
    "    return m*x + c;\n",
    "def score(Y_true,Y_predict):\n",
    "    u = ((Y_true - Y_predict)**2).sum()\n",
    "    v = ((Y_true - Y_true.mean())**2).sum()\n",
    "    return  1 - (u/v)"
   ]
  },
  {
   "cell_type": "code",
   "execution_count": 50,
   "id": "ed3f4b77",
   "metadata": {},
   "outputs": [],
   "source": [
    "def cost(x,y,m,c):\n",
    "    return ((y-(m*x-c))**2).mean()"
   ]
  },
  {
   "cell_type": "code",
   "execution_count": 51,
   "id": "09ef3bad",
   "metadata": {},
   "outputs": [
    {
     "name": "stdout",
     "output_type": "stream",
     "text": [
      "Test Score:  0.6011551963450057\n",
      "Train Score:  0.5946195814459148\n",
      "M:  1.3345792564353482  C:  7.976302496802035\n",
      "Cost on training Data:  329.04974815500907\n"
     ]
    }
   ],
   "source": [
    "m , c= fit(X_train,Y_train)\n",
    "#test data\n",
    "Y_test_predict = predict(X_test,m,c)\n",
    "print(\"Test Score: \",score(Y_test,Y_test_predict))\n",
    "#train data\n",
    "Y_train_predict = predict(X_train,m,c)\n",
    "print(\"Train Score: \",score(Y_train,Y_train_predict))\n",
    "print(\"M: \",m ,\" C: \", c)\n",
    "print(\"Cost on training Data: \", cost(X_test,Y_test,m,c))"
   ]
  },
  {
   "cell_type": "code",
   "execution_count": 33,
   "id": "b9de87ad",
   "metadata": {},
   "outputs": [
    {
     "data": {
      "image/png": "[encoded data removed]",
      "text/plain": [
       "<Figure size 640x480 with 1 Axes>"
      ]
     },
     "metadata": {},
     "output_type": "display_data"
    }
   ],
   "source": [
    "import matplotlib.pyplot as plt\n",
    "plt.scatter(X_test,Y_test)\n",
    "plt.plot(X_test,Y_test_predict,\"r\")\n",
    "plt.show()"
   ]
  },
  {
   "cell_type": "code",
   "execution_count": null,
   "id": "f183aa73",
   "metadata": {},
   "outputs": [],
   "source": []
  }
 ],
 "metadata": {
  "kernelspec": {
   "display_name": "Python 3 (ipykernel)",
   "language": "python",
   "name": "python3"
  },
  "language_info": {
   "codemirror_mode": {
    "name": "ipython",
    "version": 3
   },
   "file_extension": ".py",
   "mimetype": "text/x-python",
   "name": "python",
   "nbconvert_exporter": "python",
   "pygments_lexer": "ipython3",
   "version": "3.9.13"
  }
 },
 "nbformat": 4,
 "nbformat_minor": 5
}
