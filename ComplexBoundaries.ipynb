{
 "cells": [
  {
   "cell_type": "code",
   "execution_count": 1,
   "id": "55c0ad6c",
   "metadata": {},
   "outputs": [],
   "source": [
    "from sklearn import datasets"
   ]
  },
  {
   "cell_type": "code",
   "execution_count": 53,
   "id": "ff506444",
   "metadata": {},
   "outputs": [],
   "source": [
    "boston = datasets.load_boston()\n",
    "# print(boston)\n",
    "X = boston.data\n",
    "Y = boston.target"
   ]
  },
  {
   "cell_type": "code",
   "execution_count": 67,
   "id": "de857300",
   "metadata": {},
   "outputs": [
    {
     "name": "stdout",
     "output_type": "stream",
     "text": [
      "['CRIM' 'ZN' 'INDUS' 'CHAS' 'NOX' 'RM' 'AGE' 'DIS' 'RAD' 'TAX' 'PTRATIO'\n",
      " 'B' 'LSTAT']\n"
     ]
    }
   ],
   "source": [
    "import pandas as pd\n",
    "df = pd.DataFrame(X)\n",
    "print(boston.feature_names)\n",
    "df.columns = boston.feature_names\n",
    "for i in range(1,13):\n",
    "    for j in range(1,13):\n",
    "        clm = str(i+j)\n",
    "        df[clm] = X[:,i]*X[:,j]\n",
    "X2= df.values"
   ]
  },
  {
   "cell_type": "code",
   "execution_count": 75,
   "id": "69c83e34",
   "metadata": {},
   "outputs": [],
   "source": [
    "from sklearn import model_selection\n",
    "X_train,X_test,Y_train,Y_test = model_selection.train_test_split(X,Y,random_state=0);\n",
    "X2_train,X2_test,Y2_train,Y2_test = model_selection.train_test_split(X2,Y,random_state=0);"
   ]
  },
  {
   "cell_type": "code",
   "execution_count": 76,
   "id": "41dffff6",
   "metadata": {},
   "outputs": [
    {
     "name": "stdout",
     "output_type": "stream",
     "text": [
      "Train Score:  0.7697699488741149\n",
      "Test Score:  0.6354638433202144\n"
     ]
    }
   ],
   "source": [
    "from sklearn.linear_model import LinearRegression\n",
    "alg1 = LinearRegression();\n",
    "alg1.fit(X_train,Y_train)\n",
    "Y_predict = alg1.predict(X_test)\n",
    "print(\"Train Score: \", alg1.score(X_train,Y_train))\n",
    "print(\"Test Score: \", alg1.score(X_test,Y_test))"
   ]
  },
  {
   "cell_type": "code",
   "execution_count": 78,
   "id": "eb7cc718",
   "metadata": {},
   "outputs": [
    {
     "name": "stdout",
     "output_type": "stream",
     "text": [
      "Train Score:  0.8806969000167105\n",
      "Test Score:  0.7496175713251021\n"
     ]
    }
   ],
   "source": [
    "alg2 = LinearRegression();\n",
    "alg2.fit(X2_train,Y2_train)\n",
    "Y2_predict = alg2.predict(X2_test)\n",
    "print(\"Train Score: \", alg2.score(X2_train,Y2_train))\n",
    "print(\"Test Score: \", alg2.score(X2_test,Y2_test))"
   ]
  },
  {
   "cell_type": "code",
   "execution_count": 79,
   "id": "0e1be88c",
   "metadata": {},
   "outputs": [
    {
     "data": {
      "text/plain": [
       "<matplotlib.collections.PathCollection at 0x16a12b50d60>"
      ]
     },
     "execution_count": 79,
     "metadata": {},
     "output_type": "execute_result"
    },
    {
     "data": {
      "image/png": "[encoded data removed]",
      "text/plain": [
       "<Figure size 640x480 with 1 Axes>"
      ]
     },
     "metadata": {},
     "output_type": "display_data"
    }
   ],
   "source": [
    "import matplotlib.pyplot as plt\n",
    "plt.scatter(Y2_predict,Y2_test)"
   ]
  },
  {
   "cell_type": "code",
   "execution_count": null,
   "id": "a5ac3d0f",
   "metadata": {},
   "outputs": [],
   "source": []
  }
 ],
 "metadata": {
  "kernelspec": {
   "display_name": "Python 3 (ipykernel)",
   "language": "python",
   "name": "python3"
  },
  "language_info": {
   "codemirror_mode": {
    "name": "ipython",
    "version": 3
   },
   "file_extension": ".py",
   "mimetype": "text/x-python",
   "name": "python",
   "nbconvert_exporter": "python",
   "pygments_lexer": "ipython3",
   "version": "3.9.13"
  }
 },
 "nbformat": 4,
 "nbformat_minor": 5
}
